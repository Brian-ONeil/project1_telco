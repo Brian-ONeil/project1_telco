{
 "cells": [
  {
   "cell_type": "markdown",
   "id": "30ed10bd-f355-4818-8b3b-34ca675b5ab4",
   "metadata": {},
   "source": [
    "# Telco Churn\n",
    "\n",
    "## Goals:\n",
    "1) Find potential drivers for customers churning\n",
    "2) Identify those customers at higher risk for churning\n",
    "3) Propose actionable options to business managers to retain at risk customers of churning"
   ]
  },
  {
   "cell_type": "markdown",
   "id": "615485a4-4508-4a7f-a08c-3e2b9b6fdec8",
   "metadata": {},
   "source": [
    "## Imports"
   ]
  },
  {
   "cell_type": "code",
   "execution_count": 1,
   "id": "3f8bfcf4-91d4-4754-9ec6-bb41dcbe324b",
   "metadata": {},
   "outputs": [],
   "source": [
    "import numpy as np\n",
    "import os\n",
    "import seaborn as sns\n",
    "import scipy.stats as stat\n",
    "import pandas as pd\n",
    "import matplotlib.pyplot as plt\n",
    "from pydataset import data\n",
    "import warnings\n",
    "warnings.filterwarnings(\"ignore\")\n",
    "import acquire as acq\n",
    "import prepare as prep\n",
    "from sklearn.tree import DecisionTreeClassifier\n",
    "from sklearn.ensemble import RandomForestClassifier\n",
    "from sklearn.metrics import classification_report, confusion_matrix, plot_confusion_matrix\n",
    "from sklearn.model_selection import train_test_split\n",
    "from sklearn.neighbors import KNeighborsClassifier\n",
    "from sklearn.linear_model import LogisticRegression\n",
    "from sklearn.model_selection import GridSearchCV, train_test_split\n",
    "from sklearn.model_selection import GridSearchCV\n",
    "from sklearn.metrics import accuracy_score\n",
    "from scipy.stats import chi2_contingency\n",
    "from scipy.stats import ttest_ind\n",
    "from sklearn.metrics import accuracy_score"
   ]
  },
  {
   "cell_type": "markdown",
   "id": "9471a021-8920-4635-847c-899fdb21c563",
   "metadata": {},
   "source": [
    "## Acquire\n",
    "* Data is pulled from Telco dataset tables joined in SQL with a function updating to CSV in case of disconnection\n",
    "* Contains 7043 rows with 25 columns\n",
    "* Each row is a customer\n",
    "* Each column is a customer feature profile line or service\n",
    "\n",
    "## Prepare\n",
    "* created dummie columns of each measurable line\n",
    "* stripped and renamed all columns appropriately for easy recall\n",
    "* no nulls found in data\n",
    "* changed target data type 'churn' to string\n",
    "* dropped columns with no added value towards statistical testing or modeling"
   ]
  },
  {
   "cell_type": "code",
   "execution_count": 33,
   "id": "0ad00b83-c9dd-4244-919f-bfadb1befb66",
   "metadata": {},
   "outputs": [
    {
     "data": {
      "text/html": [
       "<div>\n",
       "<style scoped>\n",
       "    .dataframe tbody tr th:only-of-type {\n",
       "        vertical-align: middle;\n",
       "    }\n",
       "\n",
       "    .dataframe tbody tr th {\n",
       "        vertical-align: top;\n",
       "    }\n",
       "\n",
       "    .dataframe thead th {\n",
       "        text-align: right;\n",
       "    }\n",
       "</style>\n",
       "<table border=\"1\" class=\"dataframe\">\n",
       "  <thead>\n",
       "    <tr style=\"text-align: right;\">\n",
       "      <th></th>\n",
       "      <th>Unnamed: 0</th>\n",
       "      <th>payment_type_id</th>\n",
       "      <th>internet_service_type_id</th>\n",
       "      <th>contract_type_id</th>\n",
       "      <th>customer_id</th>\n",
       "      <th>gender</th>\n",
       "      <th>senior_citizen</th>\n",
       "      <th>partner</th>\n",
       "      <th>dependents</th>\n",
       "      <th>tenure</th>\n",
       "      <th>...</th>\n",
       "      <th>tech_support</th>\n",
       "      <th>streaming_tv</th>\n",
       "      <th>streaming_movies</th>\n",
       "      <th>paperless_billing</th>\n",
       "      <th>monthly_charges</th>\n",
       "      <th>total_charges</th>\n",
       "      <th>churn</th>\n",
       "      <th>contract_type</th>\n",
       "      <th>internet_service_type</th>\n",
       "      <th>payment_type</th>\n",
       "    </tr>\n",
       "  </thead>\n",
       "  <tbody>\n",
       "    <tr>\n",
       "      <th>0</th>\n",
       "      <td>0</td>\n",
       "      <td>2</td>\n",
       "      <td>1</td>\n",
       "      <td>2</td>\n",
       "      <td>0002-ORFBO</td>\n",
       "      <td>Female</td>\n",
       "      <td>0</td>\n",
       "      <td>Yes</td>\n",
       "      <td>Yes</td>\n",
       "      <td>9</td>\n",
       "      <td>...</td>\n",
       "      <td>Yes</td>\n",
       "      <td>Yes</td>\n",
       "      <td>No</td>\n",
       "      <td>Yes</td>\n",
       "      <td>65.6</td>\n",
       "      <td>593.3</td>\n",
       "      <td>No</td>\n",
       "      <td>One year</td>\n",
       "      <td>DSL</td>\n",
       "      <td>Mailed check</td>\n",
       "    </tr>\n",
       "    <tr>\n",
       "      <th>1</th>\n",
       "      <td>1</td>\n",
       "      <td>2</td>\n",
       "      <td>1</td>\n",
       "      <td>1</td>\n",
       "      <td>0003-MKNFE</td>\n",
       "      <td>Male</td>\n",
       "      <td>0</td>\n",
       "      <td>No</td>\n",
       "      <td>No</td>\n",
       "      <td>9</td>\n",
       "      <td>...</td>\n",
       "      <td>No</td>\n",
       "      <td>No</td>\n",
       "      <td>Yes</td>\n",
       "      <td>No</td>\n",
       "      <td>59.9</td>\n",
       "      <td>542.4</td>\n",
       "      <td>No</td>\n",
       "      <td>Month-to-month</td>\n",
       "      <td>DSL</td>\n",
       "      <td>Mailed check</td>\n",
       "    </tr>\n",
       "    <tr>\n",
       "      <th>2</th>\n",
       "      <td>2</td>\n",
       "      <td>1</td>\n",
       "      <td>2</td>\n",
       "      <td>1</td>\n",
       "      <td>0004-TLHLJ</td>\n",
       "      <td>Male</td>\n",
       "      <td>0</td>\n",
       "      <td>No</td>\n",
       "      <td>No</td>\n",
       "      <td>4</td>\n",
       "      <td>...</td>\n",
       "      <td>No</td>\n",
       "      <td>No</td>\n",
       "      <td>No</td>\n",
       "      <td>Yes</td>\n",
       "      <td>73.9</td>\n",
       "      <td>280.85</td>\n",
       "      <td>Yes</td>\n",
       "      <td>Month-to-month</td>\n",
       "      <td>Fiber optic</td>\n",
       "      <td>Electronic check</td>\n",
       "    </tr>\n",
       "    <tr>\n",
       "      <th>3</th>\n",
       "      <td>3</td>\n",
       "      <td>1</td>\n",
       "      <td>2</td>\n",
       "      <td>1</td>\n",
       "      <td>0011-IGKFF</td>\n",
       "      <td>Male</td>\n",
       "      <td>1</td>\n",
       "      <td>Yes</td>\n",
       "      <td>No</td>\n",
       "      <td>13</td>\n",
       "      <td>...</td>\n",
       "      <td>No</td>\n",
       "      <td>Yes</td>\n",
       "      <td>Yes</td>\n",
       "      <td>Yes</td>\n",
       "      <td>98.0</td>\n",
       "      <td>1237.85</td>\n",
       "      <td>Yes</td>\n",
       "      <td>Month-to-month</td>\n",
       "      <td>Fiber optic</td>\n",
       "      <td>Electronic check</td>\n",
       "    </tr>\n",
       "    <tr>\n",
       "      <th>4</th>\n",
       "      <td>4</td>\n",
       "      <td>2</td>\n",
       "      <td>2</td>\n",
       "      <td>1</td>\n",
       "      <td>0013-EXCHZ</td>\n",
       "      <td>Female</td>\n",
       "      <td>1</td>\n",
       "      <td>Yes</td>\n",
       "      <td>No</td>\n",
       "      <td>3</td>\n",
       "      <td>...</td>\n",
       "      <td>Yes</td>\n",
       "      <td>Yes</td>\n",
       "      <td>No</td>\n",
       "      <td>Yes</td>\n",
       "      <td>83.9</td>\n",
       "      <td>267.4</td>\n",
       "      <td>Yes</td>\n",
       "      <td>Month-to-month</td>\n",
       "      <td>Fiber optic</td>\n",
       "      <td>Mailed check</td>\n",
       "    </tr>\n",
       "  </tbody>\n",
       "</table>\n",
       "<p>5 rows × 25 columns</p>\n",
       "</div>"
      ],
      "text/plain": [
       "   Unnamed: 0  payment_type_id  internet_service_type_id  contract_type_id  \\\n",
       "0           0                2                         1                 2   \n",
       "1           1                2                         1                 1   \n",
       "2           2                1                         2                 1   \n",
       "3           3                1                         2                 1   \n",
       "4           4                2                         2                 1   \n",
       "\n",
       "  customer_id  gender  senior_citizen partner dependents  tenure  ...  \\\n",
       "0  0002-ORFBO  Female               0     Yes        Yes       9  ...   \n",
       "1  0003-MKNFE    Male               0      No         No       9  ...   \n",
       "2  0004-TLHLJ    Male               0      No         No       4  ...   \n",
       "3  0011-IGKFF    Male               1     Yes         No      13  ...   \n",
       "4  0013-EXCHZ  Female               1     Yes         No       3  ...   \n",
       "\n",
       "  tech_support streaming_tv streaming_movies paperless_billing  \\\n",
       "0          Yes          Yes               No               Yes   \n",
       "1           No           No              Yes                No   \n",
       "2           No           No               No               Yes   \n",
       "3           No          Yes              Yes               Yes   \n",
       "4          Yes          Yes               No               Yes   \n",
       "\n",
       "  monthly_charges total_charges churn   contract_type internet_service_type  \\\n",
       "0            65.6         593.3    No        One year                   DSL   \n",
       "1            59.9         542.4    No  Month-to-month                   DSL   \n",
       "2            73.9        280.85   Yes  Month-to-month           Fiber optic   \n",
       "3            98.0       1237.85   Yes  Month-to-month           Fiber optic   \n",
       "4            83.9         267.4   Yes  Month-to-month           Fiber optic   \n",
       "\n",
       "       payment_type  \n",
       "0      Mailed check  \n",
       "1      Mailed check  \n",
       "2  Electronic check  \n",
       "3  Electronic check  \n",
       "4      Mailed check  \n",
       "\n",
       "[5 rows x 25 columns]"
      ]
     },
     "execution_count": 33,
     "metadata": {},
     "output_type": "execute_result"
    }
   ],
   "source": [
    "telco_query = \"\"\"\n",
    "        select * from customers\n",
    "        join contract_types using (contract_type_id)\n",
    "        join internet_service_types using (internet_service_type_id)\n",
    "        join payment_types using (payment_type_id)\n",
    "        \"\"\"\n",
    "\n",
    "telco_df = acq.get_telco_data(telco_query)\n",
    "\n",
    "telco_df.head()"
   ]
  },
  {
   "cell_type": "code",
   "execution_count": 3,
   "id": "23ebb10f-bb51-4bc3-b30e-e344d859bde1",
   "metadata": {},
   "outputs": [],
   "source": [
    "telco_df = telco_df.drop(\"Unnamed: 0\" ,axis=1)"
   ]
  },
  {
   "cell_type": "code",
   "execution_count": 4,
   "id": "db8abffd-dcc4-4165-951d-522f273bc42e",
   "metadata": {},
   "outputs": [
    {
     "data": {
      "text/html": [
       "<div>\n",
       "<style scoped>\n",
       "    .dataframe tbody tr th:only-of-type {\n",
       "        vertical-align: middle;\n",
       "    }\n",
       "\n",
       "    .dataframe tbody tr th {\n",
       "        vertical-align: top;\n",
       "    }\n",
       "\n",
       "    .dataframe thead th {\n",
       "        text-align: right;\n",
       "    }\n",
       "</style>\n",
       "<table border=\"1\" class=\"dataframe\">\n",
       "  <thead>\n",
       "    <tr style=\"text-align: right;\">\n",
       "      <th></th>\n",
       "      <th>payment_type_id</th>\n",
       "      <th>internet_service_type_id</th>\n",
       "      <th>contract_type_id</th>\n",
       "      <th>customer_id</th>\n",
       "      <th>gender</th>\n",
       "      <th>senior_citizen</th>\n",
       "      <th>partner</th>\n",
       "      <th>dependents</th>\n",
       "      <th>tenure</th>\n",
       "      <th>phone_service</th>\n",
       "      <th>...</th>\n",
       "      <th>tech_support</th>\n",
       "      <th>streaming_tv</th>\n",
       "      <th>streaming_movies</th>\n",
       "      <th>paperless_billing</th>\n",
       "      <th>monthly_charges</th>\n",
       "      <th>total_charges</th>\n",
       "      <th>churn</th>\n",
       "      <th>contract_type</th>\n",
       "      <th>internet_service_type</th>\n",
       "      <th>payment_type</th>\n",
       "    </tr>\n",
       "  </thead>\n",
       "  <tbody>\n",
       "    <tr>\n",
       "      <th>0</th>\n",
       "      <td>2</td>\n",
       "      <td>1</td>\n",
       "      <td>2</td>\n",
       "      <td>0002-ORFBO</td>\n",
       "      <td>Female</td>\n",
       "      <td>0</td>\n",
       "      <td>Yes</td>\n",
       "      <td>Yes</td>\n",
       "      <td>9</td>\n",
       "      <td>Yes</td>\n",
       "      <td>...</td>\n",
       "      <td>Yes</td>\n",
       "      <td>Yes</td>\n",
       "      <td>No</td>\n",
       "      <td>Yes</td>\n",
       "      <td>65.6</td>\n",
       "      <td>593.3</td>\n",
       "      <td>No</td>\n",
       "      <td>One year</td>\n",
       "      <td>DSL</td>\n",
       "      <td>Mailed check</td>\n",
       "    </tr>\n",
       "    <tr>\n",
       "      <th>1</th>\n",
       "      <td>2</td>\n",
       "      <td>1</td>\n",
       "      <td>1</td>\n",
       "      <td>0003-MKNFE</td>\n",
       "      <td>Male</td>\n",
       "      <td>0</td>\n",
       "      <td>No</td>\n",
       "      <td>No</td>\n",
       "      <td>9</td>\n",
       "      <td>Yes</td>\n",
       "      <td>...</td>\n",
       "      <td>No</td>\n",
       "      <td>No</td>\n",
       "      <td>Yes</td>\n",
       "      <td>No</td>\n",
       "      <td>59.9</td>\n",
       "      <td>542.4</td>\n",
       "      <td>No</td>\n",
       "      <td>Month-to-month</td>\n",
       "      <td>DSL</td>\n",
       "      <td>Mailed check</td>\n",
       "    </tr>\n",
       "    <tr>\n",
       "      <th>2</th>\n",
       "      <td>1</td>\n",
       "      <td>2</td>\n",
       "      <td>1</td>\n",
       "      <td>0004-TLHLJ</td>\n",
       "      <td>Male</td>\n",
       "      <td>0</td>\n",
       "      <td>No</td>\n",
       "      <td>No</td>\n",
       "      <td>4</td>\n",
       "      <td>Yes</td>\n",
       "      <td>...</td>\n",
       "      <td>No</td>\n",
       "      <td>No</td>\n",
       "      <td>No</td>\n",
       "      <td>Yes</td>\n",
       "      <td>73.9</td>\n",
       "      <td>280.85</td>\n",
       "      <td>Yes</td>\n",
       "      <td>Month-to-month</td>\n",
       "      <td>Fiber optic</td>\n",
       "      <td>Electronic check</td>\n",
       "    </tr>\n",
       "  </tbody>\n",
       "</table>\n",
       "<p>3 rows × 24 columns</p>\n",
       "</div>"
      ],
      "text/plain": [
       "   payment_type_id  internet_service_type_id  contract_type_id customer_id  \\\n",
       "0                2                         1                 2  0002-ORFBO   \n",
       "1                2                         1                 1  0003-MKNFE   \n",
       "2                1                         2                 1  0004-TLHLJ   \n",
       "\n",
       "   gender  senior_citizen partner dependents  tenure phone_service  ...  \\\n",
       "0  Female               0     Yes        Yes       9           Yes  ...   \n",
       "1    Male               0      No         No       9           Yes  ...   \n",
       "2    Male               0      No         No       4           Yes  ...   \n",
       "\n",
       "  tech_support streaming_tv streaming_movies paperless_billing  \\\n",
       "0          Yes          Yes               No               Yes   \n",
       "1           No           No              Yes                No   \n",
       "2           No           No               No               Yes   \n",
       "\n",
       "  monthly_charges total_charges churn   contract_type  internet_service_type  \\\n",
       "0            65.6         593.3    No        One year                    DSL   \n",
       "1            59.9         542.4    No  Month-to-month                    DSL   \n",
       "2            73.9        280.85   Yes  Month-to-month            Fiber optic   \n",
       "\n",
       "       payment_type  \n",
       "0      Mailed check  \n",
       "1      Mailed check  \n",
       "2  Electronic check  \n",
       "\n",
       "[3 rows x 24 columns]"
      ]
     },
     "execution_count": 4,
     "metadata": {},
     "output_type": "execute_result"
    }
   ],
   "source": [
    "telco_df.head(3)"
   ]
  },
  {
   "cell_type": "code",
   "execution_count": 5,
   "id": "dc6fd963-d3b9-4239-ad85-bd7da38e5a6f",
   "metadata": {},
   "outputs": [
    {
     "data": {
      "text/html": [
       "<div>\n",
       "<style scoped>\n",
       "    .dataframe tbody tr th:only-of-type {\n",
       "        vertical-align: middle;\n",
       "    }\n",
       "\n",
       "    .dataframe tbody tr th {\n",
       "        vertical-align: top;\n",
       "    }\n",
       "\n",
       "    .dataframe thead th {\n",
       "        text-align: right;\n",
       "    }\n",
       "</style>\n",
       "<table border=\"1\" class=\"dataframe\">\n",
       "  <thead>\n",
       "    <tr style=\"text-align: right;\">\n",
       "      <th></th>\n",
       "      <th>tech_support</th>\n",
       "      <th>monthly_charges</th>\n",
       "      <th>churn</th>\n",
       "      <th>contract_type</th>\n",
       "      <th>internet_service_type</th>\n",
       "      <th>payment_type</th>\n",
       "      <th>tech_support_no internet service</th>\n",
       "      <th>tech_support_yes</th>\n",
       "      <th>contract_type_one year</th>\n",
       "      <th>contract_type_two year</th>\n",
       "      <th>internet_service_type_fiber optic</th>\n",
       "      <th>internet_service_type_none</th>\n",
       "      <th>payment_type_credit card (automatic)</th>\n",
       "      <th>payment_type_electronic check</th>\n",
       "      <th>payment_type_mailed check</th>\n",
       "    </tr>\n",
       "  </thead>\n",
       "  <tbody>\n",
       "    <tr>\n",
       "      <th>0</th>\n",
       "      <td>Yes</td>\n",
       "      <td>65.6</td>\n",
       "      <td>No</td>\n",
       "      <td>One year</td>\n",
       "      <td>DSL</td>\n",
       "      <td>Mailed check</td>\n",
       "      <td>0</td>\n",
       "      <td>1</td>\n",
       "      <td>1</td>\n",
       "      <td>0</td>\n",
       "      <td>0</td>\n",
       "      <td>0</td>\n",
       "      <td>0</td>\n",
       "      <td>0</td>\n",
       "      <td>1</td>\n",
       "    </tr>\n",
       "    <tr>\n",
       "      <th>1</th>\n",
       "      <td>No</td>\n",
       "      <td>59.9</td>\n",
       "      <td>No</td>\n",
       "      <td>Month-to-month</td>\n",
       "      <td>DSL</td>\n",
       "      <td>Mailed check</td>\n",
       "      <td>0</td>\n",
       "      <td>0</td>\n",
       "      <td>0</td>\n",
       "      <td>0</td>\n",
       "      <td>0</td>\n",
       "      <td>0</td>\n",
       "      <td>0</td>\n",
       "      <td>0</td>\n",
       "      <td>1</td>\n",
       "    </tr>\n",
       "    <tr>\n",
       "      <th>2</th>\n",
       "      <td>No</td>\n",
       "      <td>73.9</td>\n",
       "      <td>Yes</td>\n",
       "      <td>Month-to-month</td>\n",
       "      <td>Fiber optic</td>\n",
       "      <td>Electronic check</td>\n",
       "      <td>0</td>\n",
       "      <td>0</td>\n",
       "      <td>0</td>\n",
       "      <td>0</td>\n",
       "      <td>1</td>\n",
       "      <td>0</td>\n",
       "      <td>0</td>\n",
       "      <td>1</td>\n",
       "      <td>0</td>\n",
       "    </tr>\n",
       "  </tbody>\n",
       "</table>\n",
       "</div>"
      ],
      "text/plain": [
       "  tech_support  monthly_charges churn   contract_type internet_service_type  \\\n",
       "0          Yes             65.6    No        One year                   DSL   \n",
       "1           No             59.9    No  Month-to-month                   DSL   \n",
       "2           No             73.9   Yes  Month-to-month           Fiber optic   \n",
       "\n",
       "       payment_type  tech_support_no internet service  tech_support_yes  \\\n",
       "0      Mailed check                                 0                 1   \n",
       "1      Mailed check                                 0                 0   \n",
       "2  Electronic check                                 0                 0   \n",
       "\n",
       "   contract_type_one year  contract_type_two year  \\\n",
       "0                       1                       0   \n",
       "1                       0                       0   \n",
       "2                       0                       0   \n",
       "\n",
       "   internet_service_type_fiber optic  internet_service_type_none  \\\n",
       "0                                  0                           0   \n",
       "1                                  0                           0   \n",
       "2                                  1                           0   \n",
       "\n",
       "   payment_type_credit card (automatic)  payment_type_electronic check  \\\n",
       "0                                     0                              0   \n",
       "1                                     0                              0   \n",
       "2                                     0                              1   \n",
       "\n",
       "   payment_type_mailed check  \n",
       "0                          1  \n",
       "1                          1  \n",
       "2                          0  "
      ]
     },
     "execution_count": 5,
     "metadata": {},
     "output_type": "execute_result"
    }
   ],
   "source": [
    "#clean my data\n",
    "telco_df = prep.prep_telco(telco_df)\n",
    "\n",
    "telco_df.head(3)"
   ]
  },
  {
   "cell_type": "code",
   "execution_count": 6,
   "id": "90cd74c6-7d46-4d78-919a-d1647d7d3208",
   "metadata": {},
   "outputs": [
    {
     "name": "stdout",
     "output_type": "stream",
     "text": [
      "<class 'pandas.core.frame.DataFrame'>\n",
      "RangeIndex: 7043 entries, 0 to 7042\n",
      "Data columns (total 15 columns):\n",
      " #   Column                                Non-Null Count  Dtype  \n",
      "---  ------                                --------------  -----  \n",
      " 0   tech_support                          7043 non-null   object \n",
      " 1   monthly_charges                       7043 non-null   float64\n",
      " 2   churn                                 7043 non-null   object \n",
      " 3   contract_type                         7043 non-null   object \n",
      " 4   internet_service_type                 7043 non-null   object \n",
      " 5   payment_type                          7043 non-null   object \n",
      " 6   tech_support_no internet service      7043 non-null   uint8  \n",
      " 7   tech_support_yes                      7043 non-null   uint8  \n",
      " 8   contract_type_one year                7043 non-null   uint8  \n",
      " 9   contract_type_two year                7043 non-null   uint8  \n",
      " 10  internet_service_type_fiber optic     7043 non-null   uint8  \n",
      " 11  internet_service_type_none            7043 non-null   uint8  \n",
      " 12  payment_type_credit card (automatic)  7043 non-null   uint8  \n",
      " 13  payment_type_electronic check         7043 non-null   uint8  \n",
      " 14  payment_type_mailed check             7043 non-null   uint8  \n",
      "dtypes: float64(1), object(5), uint8(9)\n",
      "memory usage: 392.2+ KB\n"
     ]
    }
   ],
   "source": [
    "telco_df.info()"
   ]
  },
  {
   "cell_type": "code",
   "execution_count": 7,
   "id": "deebb0b2-1621-41db-bf43-e57d7a80db55",
   "metadata": {},
   "outputs": [],
   "source": [
    "train, validate, test = prep.split_data(telco_df, 'churn')\n",
    "\n",
    "train, validate, test['churn'] = train, validate, test['churn'].astype(str)"
   ]
  },
  {
   "cell_type": "markdown",
   "id": "4870f89d-529b-4520-9924-b43852bf3a89",
   "metadata": {},
   "source": [
    "## A brief look at the data"
   ]
  },
  {
   "cell_type": "code",
   "execution_count": 8,
   "id": "7744ddc3-82c4-445f-9d01-89d771f8996e",
   "metadata": {},
   "outputs": [
    {
     "data": {
      "text/html": [
       "<div>\n",
       "<style scoped>\n",
       "    .dataframe tbody tr th:only-of-type {\n",
       "        vertical-align: middle;\n",
       "    }\n",
       "\n",
       "    .dataframe tbody tr th {\n",
       "        vertical-align: top;\n",
       "    }\n",
       "\n",
       "    .dataframe thead th {\n",
       "        text-align: right;\n",
       "    }\n",
       "</style>\n",
       "<table border=\"1\" class=\"dataframe\">\n",
       "  <thead>\n",
       "    <tr style=\"text-align: right;\">\n",
       "      <th></th>\n",
       "      <th>tech_support</th>\n",
       "      <th>monthly_charges</th>\n",
       "      <th>churn</th>\n",
       "      <th>contract_type</th>\n",
       "      <th>internet_service_type</th>\n",
       "      <th>payment_type</th>\n",
       "      <th>tech_support_no internet service</th>\n",
       "      <th>tech_support_yes</th>\n",
       "      <th>contract_type_one year</th>\n",
       "      <th>contract_type_two year</th>\n",
       "      <th>internet_service_type_fiber optic</th>\n",
       "      <th>internet_service_type_none</th>\n",
       "      <th>payment_type_credit card (automatic)</th>\n",
       "      <th>payment_type_electronic check</th>\n",
       "      <th>payment_type_mailed check</th>\n",
       "    </tr>\n",
       "  </thead>\n",
       "  <tbody>\n",
       "    <tr>\n",
       "      <th>5911</th>\n",
       "      <td>No</td>\n",
       "      <td>39.95</td>\n",
       "      <td>No</td>\n",
       "      <td>One year</td>\n",
       "      <td>DSL</td>\n",
       "      <td>Bank transfer (automatic)</td>\n",
       "      <td>0</td>\n",
       "      <td>0</td>\n",
       "      <td>1</td>\n",
       "      <td>0</td>\n",
       "      <td>0</td>\n",
       "      <td>0</td>\n",
       "      <td>0</td>\n",
       "      <td>0</td>\n",
       "      <td>0</td>\n",
       "    </tr>\n",
       "    <tr>\n",
       "      <th>2479</th>\n",
       "      <td>No internet service</td>\n",
       "      <td>26.90</td>\n",
       "      <td>No</td>\n",
       "      <td>One year</td>\n",
       "      <td>None</td>\n",
       "      <td>Electronic check</td>\n",
       "      <td>1</td>\n",
       "      <td>0</td>\n",
       "      <td>1</td>\n",
       "      <td>0</td>\n",
       "      <td>0</td>\n",
       "      <td>1</td>\n",
       "      <td>0</td>\n",
       "      <td>1</td>\n",
       "      <td>0</td>\n",
       "    </tr>\n",
       "    <tr>\n",
       "      <th>5889</th>\n",
       "      <td>No</td>\n",
       "      <td>50.45</td>\n",
       "      <td>Yes</td>\n",
       "      <td>Month-to-month</td>\n",
       "      <td>DSL</td>\n",
       "      <td>Mailed check</td>\n",
       "      <td>0</td>\n",
       "      <td>0</td>\n",
       "      <td>0</td>\n",
       "      <td>0</td>\n",
       "      <td>0</td>\n",
       "      <td>0</td>\n",
       "      <td>0</td>\n",
       "      <td>0</td>\n",
       "      <td>1</td>\n",
       "    </tr>\n",
       "    <tr>\n",
       "      <th>6087</th>\n",
       "      <td>Yes</td>\n",
       "      <td>60.05</td>\n",
       "      <td>No</td>\n",
       "      <td>Two year</td>\n",
       "      <td>DSL</td>\n",
       "      <td>Bank transfer (automatic)</td>\n",
       "      <td>0</td>\n",
       "      <td>1</td>\n",
       "      <td>0</td>\n",
       "      <td>1</td>\n",
       "      <td>0</td>\n",
       "      <td>0</td>\n",
       "      <td>0</td>\n",
       "      <td>0</td>\n",
       "      <td>0</td>\n",
       "    </tr>\n",
       "    <tr>\n",
       "      <th>785</th>\n",
       "      <td>No</td>\n",
       "      <td>87.55</td>\n",
       "      <td>No</td>\n",
       "      <td>One year</td>\n",
       "      <td>Fiber optic</td>\n",
       "      <td>Credit card (automatic)</td>\n",
       "      <td>0</td>\n",
       "      <td>0</td>\n",
       "      <td>1</td>\n",
       "      <td>0</td>\n",
       "      <td>1</td>\n",
       "      <td>0</td>\n",
       "      <td>1</td>\n",
       "      <td>0</td>\n",
       "      <td>0</td>\n",
       "    </tr>\n",
       "  </tbody>\n",
       "</table>\n",
       "</div>"
      ],
      "text/plain": [
       "             tech_support  monthly_charges churn   contract_type  \\\n",
       "5911                   No            39.95    No        One year   \n",
       "2479  No internet service            26.90    No        One year   \n",
       "5889                   No            50.45   Yes  Month-to-month   \n",
       "6087                  Yes            60.05    No        Two year   \n",
       "785                    No            87.55    No        One year   \n",
       "\n",
       "     internet_service_type               payment_type  \\\n",
       "5911                   DSL  Bank transfer (automatic)   \n",
       "2479                  None           Electronic check   \n",
       "5889                   DSL               Mailed check   \n",
       "6087                   DSL  Bank transfer (automatic)   \n",
       "785            Fiber optic    Credit card (automatic)   \n",
       "\n",
       "      tech_support_no internet service  tech_support_yes  \\\n",
       "5911                                 0                 0   \n",
       "2479                                 1                 0   \n",
       "5889                                 0                 0   \n",
       "6087                                 0                 1   \n",
       "785                                  0                 0   \n",
       "\n",
       "      contract_type_one year  contract_type_two year  \\\n",
       "5911                       1                       0   \n",
       "2479                       1                       0   \n",
       "5889                       0                       0   \n",
       "6087                       0                       1   \n",
       "785                        1                       0   \n",
       "\n",
       "      internet_service_type_fiber optic  internet_service_type_none  \\\n",
       "5911                                  0                           0   \n",
       "2479                                  0                           1   \n",
       "5889                                  0                           0   \n",
       "6087                                  0                           0   \n",
       "785                                   1                           0   \n",
       "\n",
       "      payment_type_credit card (automatic)  payment_type_electronic check  \\\n",
       "5911                                     0                              0   \n",
       "2479                                     0                              1   \n",
       "5889                                     0                              0   \n",
       "6087                                     0                              0   \n",
       "785                                      1                              0   \n",
       "\n",
       "      payment_type_mailed check  \n",
       "5911                          0  \n",
       "2479                          0  \n",
       "5889                          1  \n",
       "6087                          0  \n",
       "785                           0  "
      ]
     },
     "execution_count": 8,
     "metadata": {},
     "output_type": "execute_result"
    }
   ],
   "source": [
    "train.head()"
   ]
  },
  {
   "cell_type": "markdown",
   "id": "1dea8a81-09e6-41c3-b7cd-e57fee0e81ef",
   "metadata": {},
   "source": [
    "## A summary of the data"
   ]
  },
  {
   "cell_type": "code",
   "execution_count": 9,
   "id": "7cd34c52-cb0e-4811-8f3a-0bc65a499e36",
   "metadata": {},
   "outputs": [
    {
     "data": {
      "text/html": [
       "<div>\n",
       "<style scoped>\n",
       "    .dataframe tbody tr th:only-of-type {\n",
       "        vertical-align: middle;\n",
       "    }\n",
       "\n",
       "    .dataframe tbody tr th {\n",
       "        vertical-align: top;\n",
       "    }\n",
       "\n",
       "    .dataframe thead th {\n",
       "        text-align: right;\n",
       "    }\n",
       "</style>\n",
       "<table border=\"1\" class=\"dataframe\">\n",
       "  <thead>\n",
       "    <tr style=\"text-align: right;\">\n",
       "      <th></th>\n",
       "      <th>monthly_charges</th>\n",
       "      <th>tech_support_no internet service</th>\n",
       "      <th>tech_support_yes</th>\n",
       "      <th>contract_type_one year</th>\n",
       "      <th>contract_type_two year</th>\n",
       "      <th>internet_service_type_fiber optic</th>\n",
       "      <th>internet_service_type_none</th>\n",
       "      <th>payment_type_credit card (automatic)</th>\n",
       "      <th>payment_type_electronic check</th>\n",
       "      <th>payment_type_mailed check</th>\n",
       "    </tr>\n",
       "  </thead>\n",
       "  <tbody>\n",
       "    <tr>\n",
       "      <th>count</th>\n",
       "      <td>4225.000000</td>\n",
       "      <td>4225.000000</td>\n",
       "      <td>4225.000000</td>\n",
       "      <td>4225.000000</td>\n",
       "      <td>4225.000000</td>\n",
       "      <td>4225.000000</td>\n",
       "      <td>4225.000000</td>\n",
       "      <td>4225.000000</td>\n",
       "      <td>4225.000000</td>\n",
       "      <td>4225.000000</td>\n",
       "    </tr>\n",
       "    <tr>\n",
       "      <th>mean</th>\n",
       "      <td>65.056142</td>\n",
       "      <td>0.218462</td>\n",
       "      <td>0.289467</td>\n",
       "      <td>0.216095</td>\n",
       "      <td>0.235503</td>\n",
       "      <td>0.439053</td>\n",
       "      <td>0.218462</td>\n",
       "      <td>0.217515</td>\n",
       "      <td>0.336805</td>\n",
       "      <td>0.224852</td>\n",
       "    </tr>\n",
       "    <tr>\n",
       "      <th>std</th>\n",
       "      <td>30.268493</td>\n",
       "      <td>0.413251</td>\n",
       "      <td>0.453569</td>\n",
       "      <td>0.411628</td>\n",
       "      <td>0.424363</td>\n",
       "      <td>0.496330</td>\n",
       "      <td>0.413251</td>\n",
       "      <td>0.412604</td>\n",
       "      <td>0.472673</td>\n",
       "      <td>0.417534</td>\n",
       "    </tr>\n",
       "    <tr>\n",
       "      <th>min</th>\n",
       "      <td>18.250000</td>\n",
       "      <td>0.000000</td>\n",
       "      <td>0.000000</td>\n",
       "      <td>0.000000</td>\n",
       "      <td>0.000000</td>\n",
       "      <td>0.000000</td>\n",
       "      <td>0.000000</td>\n",
       "      <td>0.000000</td>\n",
       "      <td>0.000000</td>\n",
       "      <td>0.000000</td>\n",
       "    </tr>\n",
       "    <tr>\n",
       "      <th>25%</th>\n",
       "      <td>35.650000</td>\n",
       "      <td>0.000000</td>\n",
       "      <td>0.000000</td>\n",
       "      <td>0.000000</td>\n",
       "      <td>0.000000</td>\n",
       "      <td>0.000000</td>\n",
       "      <td>0.000000</td>\n",
       "      <td>0.000000</td>\n",
       "      <td>0.000000</td>\n",
       "      <td>0.000000</td>\n",
       "    </tr>\n",
       "    <tr>\n",
       "      <th>50%</th>\n",
       "      <td>70.400000</td>\n",
       "      <td>0.000000</td>\n",
       "      <td>0.000000</td>\n",
       "      <td>0.000000</td>\n",
       "      <td>0.000000</td>\n",
       "      <td>0.000000</td>\n",
       "      <td>0.000000</td>\n",
       "      <td>0.000000</td>\n",
       "      <td>0.000000</td>\n",
       "      <td>0.000000</td>\n",
       "    </tr>\n",
       "    <tr>\n",
       "      <th>75%</th>\n",
       "      <td>90.150000</td>\n",
       "      <td>0.000000</td>\n",
       "      <td>1.000000</td>\n",
       "      <td>0.000000</td>\n",
       "      <td>0.000000</td>\n",
       "      <td>1.000000</td>\n",
       "      <td>0.000000</td>\n",
       "      <td>0.000000</td>\n",
       "      <td>1.000000</td>\n",
       "      <td>0.000000</td>\n",
       "    </tr>\n",
       "    <tr>\n",
       "      <th>max</th>\n",
       "      <td>118.750000</td>\n",
       "      <td>1.000000</td>\n",
       "      <td>1.000000</td>\n",
       "      <td>1.000000</td>\n",
       "      <td>1.000000</td>\n",
       "      <td>1.000000</td>\n",
       "      <td>1.000000</td>\n",
       "      <td>1.000000</td>\n",
       "      <td>1.000000</td>\n",
       "      <td>1.000000</td>\n",
       "    </tr>\n",
       "  </tbody>\n",
       "</table>\n",
       "</div>"
      ],
      "text/plain": [
       "       monthly_charges  tech_support_no internet service  tech_support_yes  \\\n",
       "count      4225.000000                       4225.000000       4225.000000   \n",
       "mean         65.056142                          0.218462          0.289467   \n",
       "std          30.268493                          0.413251          0.453569   \n",
       "min          18.250000                          0.000000          0.000000   \n",
       "25%          35.650000                          0.000000          0.000000   \n",
       "50%          70.400000                          0.000000          0.000000   \n",
       "75%          90.150000                          0.000000          1.000000   \n",
       "max         118.750000                          1.000000          1.000000   \n",
       "\n",
       "       contract_type_one year  contract_type_two year  \\\n",
       "count             4225.000000             4225.000000   \n",
       "mean                 0.216095                0.235503   \n",
       "std                  0.411628                0.424363   \n",
       "min                  0.000000                0.000000   \n",
       "25%                  0.000000                0.000000   \n",
       "50%                  0.000000                0.000000   \n",
       "75%                  0.000000                0.000000   \n",
       "max                  1.000000                1.000000   \n",
       "\n",
       "       internet_service_type_fiber optic  internet_service_type_none  \\\n",
       "count                        4225.000000                 4225.000000   \n",
       "mean                            0.439053                    0.218462   \n",
       "std                             0.496330                    0.413251   \n",
       "min                             0.000000                    0.000000   \n",
       "25%                             0.000000                    0.000000   \n",
       "50%                             0.000000                    0.000000   \n",
       "75%                             1.000000                    0.000000   \n",
       "max                             1.000000                    1.000000   \n",
       "\n",
       "       payment_type_credit card (automatic)  payment_type_electronic check  \\\n",
       "count                           4225.000000                    4225.000000   \n",
       "mean                               0.217515                       0.336805   \n",
       "std                                0.412604                       0.472673   \n",
       "min                                0.000000                       0.000000   \n",
       "25%                                0.000000                       0.000000   \n",
       "50%                                0.000000                       0.000000   \n",
       "75%                                0.000000                       1.000000   \n",
       "max                                1.000000                       1.000000   \n",
       "\n",
       "       payment_type_mailed check  \n",
       "count                4225.000000  \n",
       "mean                    0.224852  \n",
       "std                     0.417534  \n",
       "min                     0.000000  \n",
       "25%                     0.000000  \n",
       "50%                     0.000000  \n",
       "75%                     0.000000  \n",
       "max                     1.000000  "
      ]
     },
     "execution_count": 9,
     "metadata": {},
     "output_type": "execute_result"
    }
   ],
   "source": [
    "train.describe()"
   ]
  },
  {
   "cell_type": "markdown",
   "id": "c168fd75-4081-4399-ba09-b07f3b3d4fff",
   "metadata": {},
   "source": [
    "## Explore\n",
    "\n",
    "## Does payment_type affect churn?"
   ]
  },
  {
   "cell_type": "code",
   "execution_count": 10,
   "id": "6ba25776-ce90-4f8d-88cb-ac53256df7fb",
   "metadata": {},
   "outputs": [
    {
     "data": {
      "image/png": "[encoded data removed]",
      "text/plain": [
       "<Figure size 1200x800 with 1 Axes>"
      ]
     },
     "metadata": {},
     "output_type": "display_data"
    }
   ],
   "source": [
    "plt.figure(figsize=(12,8))\n",
    "sns.countplot(x='payment_type', hue='churn', data=train)\n",
    "plt.title('Does payment_type affect whether or not someone churns?')\n",
    "plt.xlabel('payment_type')\n",
    "plt.ylabel('Count')\n",
    "plt.show()"
   ]
  },
  {
   "cell_type": "markdown",
   "id": "861a0aa2-9f62-4b13-9e27-14caf8880220",
   "metadata": {},
   "source": [
    "* Electronic check payment type is 3 to 4 times higher than any other payment type that churns"
   ]
  },
  {
   "cell_type": "markdown",
   "id": "0a197559-ef2a-48b6-a47f-b48e944cc574",
   "metadata": {},
   "source": [
    "* The chi-squared test of independence tests the null hypothesis that there is no relationship between the two variables (churn and payment_type) in the population. If the p-value is less than the significance level (e.g., 0.05), we reject the null hypothesis and conclude that there is a significant relationship between the two variables.\n",
    "\n",
    "* H0 = There is no relationship between churn and payment_type\n",
    "* Ha = There is a relationship between churn and payment_type"
   ]
  },
  {
   "cell_type": "code",
   "execution_count": 11,
   "id": "bfcb5601-ae4e-4ebb-a66d-0f72a9f92f57",
   "metadata": {},
   "outputs": [
    {
     "name": "stdout",
     "output_type": "stream",
     "text": [
      "payment_type  Bank transfer (automatic)  Credit card (automatic)  \\\n",
      "churn                                                              \n",
      "No                                  789                      774   \n",
      "Yes                                 144                      145   \n",
      "\n",
      "payment_type  Electronic check  Mailed check  \n",
      "churn                                         \n",
      "No                         780           761  \n",
      "Yes                        643           189  \n",
      "Chi-squared statistic: 388.97403778913014\n",
      "p-value: 5.412195802407718e-84\n",
      "Degrees of freedom: 3\n",
      "Expected frequencies: [[ 685.45136095  675.16591716 1045.44189349  697.9408284 ]\n",
      " [ 247.54863905  243.83408284  377.55810651  252.0591716 ]]\n"
     ]
    }
   ],
   "source": [
    "# Create a contingency table of churn and payment_type\n",
    "contingency_table = pd.crosstab(train['churn'], train['payment_type'])\n",
    "\n",
    "# Print the contingency table\n",
    "print(contingency_table)\n",
    "\n",
    "# Perform a chi-squared test of independence\n",
    "chi2, p, dof, expected = chi2_contingency(contingency_table)\n",
    "\n",
    "# Print the results of the chi-squared test\n",
    "print('Chi-squared statistic:', chi2)\n",
    "print('p-value:', p)\n",
    "print('Degrees of freedom:', dof)\n",
    "print('Expected frequencies:', expected)"
   ]
  },
  {
   "cell_type": "markdown",
   "id": "c44f7f7f-eadf-4a87-9b43-10011f6cdc51",
   "metadata": {},
   "source": [
    "The p-value is much less than the 0.05 alpha. Therefore we reject the null hypothesis and there is evidence of a rather good relationship between churn and payment_type. We will send it on to modeling."
   ]
  },
  {
   "cell_type": "markdown",
   "id": "fb0368c1-341b-460c-b8b9-7d0f84ac8b33",
   "metadata": {},
   "source": [
    "## Does internet_service_type affect churn?"
   ]
  },
  {
   "cell_type": "code",
   "execution_count": 12,
   "id": "468a7bbc-f27f-4a16-bf39-0c128796528b",
   "metadata": {},
   "outputs": [
    {
     "data": {
      "image/png": "[encoded data removed]",
      "text/plain": [
       "<Figure size 1200x800 with 1 Axes>"
      ]
     },
     "metadata": {},
     "output_type": "display_data"
    }
   ],
   "source": [
    "plt.figure(figsize=(12,8))\n",
    "sns.countplot(x='internet_service_type', hue='churn', data=train)\n",
    "plt.title('Does internet_service_type affect whether or not someone churns?')\n",
    "plt.xlabel('internet_service_type')\n",
    "plt.ylabel('Count')\n",
    "plt.show()"
   ]
  },
  {
   "cell_type": "markdown",
   "id": "368034f1-883f-4de3-b4cb-cdd201f6b5f7",
   "metadata": {},
   "source": [
    "* Fiber optic internet_service_type is about 3 times higher likely to churn than DSL and 2 times higher than DSL/none combined that churns"
   ]
  },
  {
   "cell_type": "markdown",
   "id": "48ab521c-a3c3-46a8-a590-20efdde0c0c6",
   "metadata": {},
   "source": [
    "* The chi-squared test of independence tests the null hypothesis that there is no relationship between the two variables (churn and internet_service_type) in the population. If the p-value is less than the significance level (e.g., 0.05), we reject the null hypothesis and conclude that there is a significant relationship between the two variables.\n",
    "\n",
    "* H0 = There is no relationship between churn and internet_service_type\n",
    "* Ha = There is a relationship between churn and internet_service_type"
   ]
  },
  {
   "cell_type": "code",
   "execution_count": 13,
   "id": "ca590800-1056-4bff-9d2b-b6d796eaa8c6",
   "metadata": {},
   "outputs": [
    {
     "name": "stdout",
     "output_type": "stream",
     "text": [
      "internet_service_type   DSL  Fiber optic  None\n",
      "churn                                         \n",
      "No                     1173         1082   849\n",
      "Yes                     274          773    74\n",
      "Chi-squared statistic: 423.25897064244805\n",
      "p-value: 1.2316358365835844e-92\n",
      "Degrees of freedom: 2\n",
      "Expected frequencies: [[1063.07408284 1362.82130178  678.10461538]\n",
      " [ 383.92591716  492.17869822  244.89538462]]\n"
     ]
    }
   ],
   "source": [
    "# Create a contingency table of churn and payment_type\n",
    "contingency_table = pd.crosstab(train['churn'], train['internet_service_type'])\n",
    "\n",
    "# Print the contingency table\n",
    "print(contingency_table)\n",
    "\n",
    "# Perform a chi-squared test of independence\n",
    "chi2, p, dof, expected = chi2_contingency(contingency_table)\n",
    "\n",
    "# Print the results of the chi-squared test\n",
    "print('Chi-squared statistic:', chi2)\n",
    "print('p-value:', p)\n",
    "print('Degrees of freedom:', dof)\n",
    "print('Expected frequencies:', expected)"
   ]
  },
  {
   "cell_type": "markdown",
   "id": "906be3fb-1beb-4505-b1c5-ef4731fb273c",
   "metadata": {},
   "source": [
    "The p-value is much less than the 0.05 alpha. Therefore we reject the null hypothesis and there is evidence of a rather good relationship between churn and internet_service_type. We will send it on to modeling."
   ]
  },
  {
   "cell_type": "markdown",
   "id": "10cc5a28-f562-4262-9251-df3655eefdd6",
   "metadata": {},
   "source": [
    "## Does contract_type affect churn?"
   ]
  },
  {
   "cell_type": "code",
   "execution_count": 14,
   "id": "51ad7af0-f312-4ab1-ba7c-1660d0eac6aa",
   "metadata": {},
   "outputs": [
    {
     "data": {
      "image/png": "[encoded data removed]",
      "text/plain": [
       "<Figure size 1200x800 with 1 Axes>"
      ]
     },
     "metadata": {},
     "output_type": "display_data"
    }
   ],
   "source": [
    "plt.figure(figsize=(12,8))\n",
    "sns.countplot(x='contract_type', hue='churn', data=train)\n",
    "plt.title('Does contract_type affect whether or not someone churns?')\n",
    "plt.xlabel('contract_type')\n",
    "plt.ylabel('Count')\n",
    "plt.show()"
   ]
  },
  {
   "cell_type": "markdown",
   "id": "2e901793-46f6-4ab6-9dd7-177a2126f39f",
   "metadata": {},
   "source": [
    "* Month-to-Month contract_type is more than 8 times higher likely to churn than both annual contract types combined"
   ]
  },
  {
   "cell_type": "markdown",
   "id": "e0532b36-774a-4504-8ed7-8360f652fc76",
   "metadata": {},
   "source": [
    "* The chi-squared test of independence tests the null hypothesis that there is no relationship between the two variables (churn and contract_type) in the population. If the p-value is less than the significance level (e.g., 0.05), we reject the null hypothesis and conclude that there is a significant relationship between the two variables.\n",
    "\n",
    "* H0 = There is no relationship between churn and contract_type\n",
    "* Ha = There is a relationship between churn and contract_type"
   ]
  },
  {
   "cell_type": "code",
   "execution_count": 15,
   "id": "ea71148a-6b91-4da1-a850-c796bd81ba1c",
   "metadata": {},
   "outputs": [
    {
     "name": "stdout",
     "output_type": "stream",
     "text": [
      "contract_type  Month-to-month  One year  Two year\n",
      "churn                                            \n",
      "No                       1327       815       962\n",
      "Yes                       990        98        33\n",
      "Chi-squared statistic: 703.7870674341639\n",
      "p-value: 1.4947896745220748e-153\n",
      "Degrees of freedom: 2\n",
      "Expected frequencies: [[1702.24094675  670.75786982  731.00118343]\n",
      " [ 614.75905325  242.24213018  263.99881657]]\n"
     ]
    }
   ],
   "source": [
    "# Create a contingency table of churn and payment_type\n",
    "contingency_table = pd.crosstab(train['churn'], train['contract_type'])\n",
    "\n",
    "# Print the contingency table\n",
    "print(contingency_table)\n",
    "\n",
    "# Perform a chi-squared test of independence\n",
    "chi2, p, dof, expected = chi2_contingency(contingency_table)\n",
    "\n",
    "# Print the results of the chi-squared test\n",
    "print('Chi-squared statistic:', chi2)\n",
    "print('p-value:', p)\n",
    "print('Degrees of freedom:', dof)\n",
    "print('Expected frequencies:', expected)"
   ]
  },
  {
   "cell_type": "markdown",
   "id": "5db50203-e098-4bb4-978a-0139ac3ae551",
   "metadata": {},
   "source": [
    "The p-value is much less than the 0.05 alpha. Therefore we reject the null hypothesis and there is evidence of a rather good relationship between churn"
   ]
  },
  {
   "cell_type": "markdown",
   "id": "9d21a6e6-6981-4e88-b55b-717af142467e",
   "metadata": {},
   "source": [
    "## Does whether or not a customer has tech_support affect churn?"
   ]
  },
  {
   "cell_type": "code",
   "execution_count": 16,
   "id": "b63c6188-edfd-406f-8576-3c255413b921",
   "metadata": {},
   "outputs": [
    {
     "data": {
      "image/png": "[encoded data removed]",
      "text/plain": [
       "<Figure size 1200x800 with 1 Axes>"
      ]
     },
     "metadata": {},
     "output_type": "display_data"
    }
   ],
   "source": [
    "plt.figure(figsize=(12,8))\n",
    "sns.countplot(x='tech_support', hue='churn', data=train)\n",
    "plt.title('Does whether or not a customer has tech_support affect churn?')\n",
    "plt.xlabel('tech_support')\n",
    "plt.ylabel('Count')\n",
    "plt.show()"
   ]
  },
  {
   "cell_type": "markdown",
   "id": "03c1b45a-58a0-483b-83b0-e2e59ddfc52d",
   "metadata": {},
   "source": [
    "* Customers not having tech_support is approximately 4 times more likely to churn than customers who have tech_support"
   ]
  },
  {
   "cell_type": "markdown",
   "id": "74683956-56c6-4f1c-94b6-1c6ea6c2a331",
   "metadata": {},
   "source": [
    "* The chi-squared test of independence tests the null hypothesis that there is no relationship between the two variables (churn and tech_support) in the population. If the p-value is less than the significance level (e.g., 0.05), we reject the null hypothesis and conclude that there is a significant relationship between the two variables.\n",
    "\n",
    "* H0 = There is no relationship between churn and tech_support\n",
    "* Ha = There is a relationship between churn and tech_support"
   ]
  },
  {
   "cell_type": "code",
   "execution_count": 17,
   "id": "276f6022-3f6f-49c1-a9e3-9df2c93e1410",
   "metadata": {},
   "outputs": [
    {
     "name": "stdout",
     "output_type": "stream",
     "text": [
      "tech_support    No  No internet service   Yes\n",
      "churn                                        \n",
      "No            1227                  849  1028\n",
      "Yes            852                   74   195\n",
      "Chi-squared statistic: 455.32105998858174\n",
      "p-value: 1.3436559397518597e-99\n",
      "Degrees of freedom: 2\n",
      "Expected frequencies: [[1527.38840237  678.10461538  898.50698225]\n",
      " [ 551.61159763  244.89538462  324.49301775]]\n"
     ]
    }
   ],
   "source": [
    "# Create a contingency table of churn and payment_type\n",
    "contingency_table = pd.crosstab(train['churn'], train['tech_support'])\n",
    "\n",
    "# Print the contingency table\n",
    "print(contingency_table)\n",
    "\n",
    "# Perform a chi-squared test of independence\n",
    "chi2, p, dof, expected = chi2_contingency(contingency_table)\n",
    "\n",
    "# Print the results of the chi-squared test\n",
    "print('Chi-squared statistic:', chi2)\n",
    "print('p-value:', p)\n",
    "print('Degrees of freedom:', dof)\n",
    "print('Expected frequencies:', expected)"
   ]
  },
  {
   "cell_type": "markdown",
   "id": "b1c8a14b-3afc-482f-a557-eb59acf923f8",
   "metadata": {},
   "source": [
    "The p-value is much less than the 0.05 alpha. Therefore we reject the null hypothesis and there is evidence of a rather good relationship between churn and tech_support. We will send it on to modeling."
   ]
  },
  {
   "cell_type": "markdown",
   "id": "98b65fa7-5aa3-400f-b67d-e2a1c42849d7",
   "metadata": {},
   "source": [
    "## Does monthly_charges affect churn?"
   ]
  },
  {
   "cell_type": "code",
   "execution_count": 18,
   "id": "63d402f0-6171-4b0b-a437-ad8de15b6994",
   "metadata": {},
   "outputs": [
    {
     "data": {
      "image/png": "[encoded data removed]",
      "text/plain": [
       "<Figure size 640x480 with 1 Axes>"
      ]
     },
     "metadata": {},
     "output_type": "display_data"
    }
   ],
   "source": [
    "# Visualize the relationship between churn and monthly_charges\n",
    "sns.boxplot(x='churn', y='monthly_charges', data=train)\n",
    "plt.title('Does monthly_charges affect churn?')\n",
    "plt.xlabel('Churn')\n",
    "plt.ylabel('Monthly Charges')\n",
    "plt.show()"
   ]
  },
  {
   "cell_type": "markdown",
   "id": "5e989e13-598a-477f-8efc-686b3d5e5f79",
   "metadata": {},
   "source": [
    "* Customers that churn have about a $15 higher mean than those who have not churned"
   ]
  },
  {
   "cell_type": "markdown",
   "id": "f4868a89-3f62-4399-8021-f35d5a02df5c",
   "metadata": {},
   "source": [
    "* The two-sample t-test tests the null hypothesis that there is no difference between the means of the two groups (churn and non-churn customers) in the population. If the p-value is less than the significance level (e.g., 0.05), we reject the null hypothesis and conclude that there is a significant difference between the means of the two groups.\n",
    "\n",
    "* H0 = There is no difference between monthly_charge price means for those who churned and did not churn\n",
    "* Ha = There is a difference between monthly_charge price means for those who churned and did not churn"
   ]
  },
  {
   "cell_type": "code",
   "execution_count": 19,
   "id": "b00f402a-5785-4fd0-957d-d86e35439520",
   "metadata": {},
   "outputs": [
    {
     "name": "stdout",
     "output_type": "stream",
     "text": [
      "T-statistic: 12.470933594920117\n",
      "P-value: 4.430821858383166e-35\n"
     ]
    }
   ],
   "source": [
    "# Create separate dataframes for churn and non-churn customers\n",
    "churn_df = train[train['churn'] == 'Yes']\n",
    "non_churn_df = train[train['churn'] == 'No']\n",
    "\n",
    "# Perform a two-sample t-test for the means of monthly charges\n",
    "t_statistic, p_value = ttest_ind(churn_df['monthly_charges'], non_churn_df['monthly_charges'])\n",
    "\n",
    "# Print the results of the t-test\n",
    "print('T-statistic:', t_statistic)\n",
    "print('P-value:', p_value)"
   ]
  },
  {
   "cell_type": "markdown",
   "id": "3af10e8a-5533-4ea1-bf04-7749af413935",
   "metadata": {},
   "source": [
    "The p-value is much less than the 0.05 alpha. Therefore we reject the null hypothesis and there is evidence of a moderate difference between churn and monthly_charges. We will send it on to modeling."
   ]
  },
  {
   "cell_type": "markdown",
   "id": "e00ad3c5-d0ef-4c4c-8b8b-aea86db3efdf",
   "metadata": {},
   "source": [
    "## Exploration Summary\n",
    "* payment_type has a strong relationship with churn with a p value of: 5.412195802407718e-84\n",
    "* internet_service_type has a strong relationship with churn with a p value of: 1.2316358365835844e-92\n",
    "* contract_type has a strong relationship with churn with a p value of: 1.4947896745220748e-153\n",
    "* tech_support has a strong relationship with churn with a p value of: 1.3436559397518597e-99\n",
    "* monthly_charges has a moderate relationship with churn with a p value of: 4.430821858383166e-35"
   ]
  },
  {
   "cell_type": "markdown",
   "id": "b7ad84e6-3b33-44fc-ae1f-c8fd0e61b8a0",
   "metadata": {},
   "source": [
    "## Features I will model\n",
    "* payment_type\n",
    "* internet_service_type\n",
    "* contract_type\n",
    "* tech_support\n",
    "* monthly_charges"
   ]
  },
  {
   "cell_type": "markdown",
   "id": "a5136d66-b85d-442e-8489-a1e79f7486f7",
   "metadata": {},
   "source": [
    "## Modeling\n",
    "\n",
    "* The purpose of modeling the features I have selected is to find the most accurate model for predicting whether or not a customer will churn.\n",
    "\n",
    "* The baseline accuracy we are trying to beat is 73% which is made up of the non-churn data. I will be using a Decision Tree, Random Forest, Logistic Regression, and KNearest models to try to find the best model. I will also be using a grid search to find the optimal hyperparameters with the highest accuracy scores."
   ]
  },
  {
   "cell_type": "code",
   "execution_count": 20,
   "id": "6be21783-594b-40d5-b375-1644efc45a37",
   "metadata": {},
   "outputs": [
    {
     "data": {
      "text/plain": [
       "No     3104\n",
       "Yes    1121\n",
       "Name: churn, dtype: int64"
      ]
     },
     "execution_count": 20,
     "metadata": {},
     "output_type": "execute_result"
    }
   ],
   "source": [
    "train.churn.value_counts()"
   ]
  },
  {
   "cell_type": "code",
   "execution_count": 21,
   "id": "b3fc4da6-5da9-434c-88f0-b00afec95ddf",
   "metadata": {},
   "outputs": [
    {
     "data": {
      "text/plain": [
       "0.7346745562130178"
      ]
     },
     "execution_count": 21,
     "metadata": {},
     "output_type": "execute_result"
    }
   ],
   "source": [
    "#calculate baseline accuracy\n",
    "baseline_accuracy = 3104 / (3104+1121)\n",
    "baseline_accuracy"
   ]
  },
  {
   "cell_type": "markdown",
   "id": "76fb314b-440f-4dd8-93a7-7715ea629f4c",
   "metadata": {},
   "source": [
    "## Prep Data for Modeling"
   ]
  },
  {
   "cell_type": "code",
   "execution_count": 22,
   "id": "910dc572-82b1-4956-adcd-58b4a7aaddce",
   "metadata": {},
   "outputs": [],
   "source": [
    "# create X & y version of train/validate/test\n",
    "# where X contains the features we want to use and y is a series with just the target variable\n",
    "\n",
    "X_train = train.drop(columns=['churn', 'tech_support', 'contract_type', 'internet_service_type', 'payment_type'])\n",
    "y_train = train.churn\n",
    "\n",
    "X_validate = validate.drop(columns=['churn', 'tech_support', 'contract_type', 'internet_service_type', 'payment_type'])\n",
    "y_validate = validate.churn\n",
    "\n",
    "X_test = test.drop(columns=['churn', 'tech_support', 'contract_type', 'internet_service_type', 'payment_type'])\n",
    "y_test = test.churn"
   ]
  },
  {
   "cell_type": "code",
   "execution_count": 23,
   "id": "896bdccd-7a83-47d0-b923-8243e9a3b926",
   "metadata": {},
   "outputs": [
    {
     "data": {
      "text/html": [
       "<div>\n",
       "<style scoped>\n",
       "    .dataframe tbody tr th:only-of-type {\n",
       "        vertical-align: middle;\n",
       "    }\n",
       "\n",
       "    .dataframe tbody tr th {\n",
       "        vertical-align: top;\n",
       "    }\n",
       "\n",
       "    .dataframe thead th {\n",
       "        text-align: right;\n",
       "    }\n",
       "</style>\n",
       "<table border=\"1\" class=\"dataframe\">\n",
       "  <thead>\n",
       "    <tr style=\"text-align: right;\">\n",
       "      <th></th>\n",
       "      <th>monthly_charges</th>\n",
       "      <th>tech_support_no internet service</th>\n",
       "      <th>tech_support_yes</th>\n",
       "      <th>contract_type_one year</th>\n",
       "      <th>contract_type_two year</th>\n",
       "      <th>internet_service_type_fiber optic</th>\n",
       "      <th>internet_service_type_none</th>\n",
       "      <th>payment_type_credit card (automatic)</th>\n",
       "      <th>payment_type_electronic check</th>\n",
       "      <th>payment_type_mailed check</th>\n",
       "    </tr>\n",
       "  </thead>\n",
       "  <tbody>\n",
       "    <tr>\n",
       "      <th>5911</th>\n",
       "      <td>39.95</td>\n",
       "      <td>0</td>\n",
       "      <td>0</td>\n",
       "      <td>1</td>\n",
       "      <td>0</td>\n",
       "      <td>0</td>\n",
       "      <td>0</td>\n",
       "      <td>0</td>\n",
       "      <td>0</td>\n",
       "      <td>0</td>\n",
       "    </tr>\n",
       "    <tr>\n",
       "      <th>2479</th>\n",
       "      <td>26.90</td>\n",
       "      <td>1</td>\n",
       "      <td>0</td>\n",
       "      <td>1</td>\n",
       "      <td>0</td>\n",
       "      <td>0</td>\n",
       "      <td>1</td>\n",
       "      <td>0</td>\n",
       "      <td>1</td>\n",
       "      <td>0</td>\n",
       "    </tr>\n",
       "    <tr>\n",
       "      <th>5889</th>\n",
       "      <td>50.45</td>\n",
       "      <td>0</td>\n",
       "      <td>0</td>\n",
       "      <td>0</td>\n",
       "      <td>0</td>\n",
       "      <td>0</td>\n",
       "      <td>0</td>\n",
       "      <td>0</td>\n",
       "      <td>0</td>\n",
       "      <td>1</td>\n",
       "    </tr>\n",
       "    <tr>\n",
       "      <th>6087</th>\n",
       "      <td>60.05</td>\n",
       "      <td>0</td>\n",
       "      <td>1</td>\n",
       "      <td>0</td>\n",
       "      <td>1</td>\n",
       "      <td>0</td>\n",
       "      <td>0</td>\n",
       "      <td>0</td>\n",
       "      <td>0</td>\n",
       "      <td>0</td>\n",
       "    </tr>\n",
       "    <tr>\n",
       "      <th>785</th>\n",
       "      <td>87.55</td>\n",
       "      <td>0</td>\n",
       "      <td>0</td>\n",
       "      <td>1</td>\n",
       "      <td>0</td>\n",
       "      <td>1</td>\n",
       "      <td>0</td>\n",
       "      <td>1</td>\n",
       "      <td>0</td>\n",
       "      <td>0</td>\n",
       "    </tr>\n",
       "  </tbody>\n",
       "</table>\n",
       "</div>"
      ],
      "text/plain": [
       "      monthly_charges  tech_support_no internet service  tech_support_yes  \\\n",
       "5911            39.95                                 0                 0   \n",
       "2479            26.90                                 1                 0   \n",
       "5889            50.45                                 0                 0   \n",
       "6087            60.05                                 0                 1   \n",
       "785             87.55                                 0                 0   \n",
       "\n",
       "      contract_type_one year  contract_type_two year  \\\n",
       "5911                       1                       0   \n",
       "2479                       1                       0   \n",
       "5889                       0                       0   \n",
       "6087                       0                       1   \n",
       "785                        1                       0   \n",
       "\n",
       "      internet_service_type_fiber optic  internet_service_type_none  \\\n",
       "5911                                  0                           0   \n",
       "2479                                  0                           1   \n",
       "5889                                  0                           0   \n",
       "6087                                  0                           0   \n",
       "785                                   1                           0   \n",
       "\n",
       "      payment_type_credit card (automatic)  payment_type_electronic check  \\\n",
       "5911                                     0                              0   \n",
       "2479                                     0                              1   \n",
       "5889                                     0                              0   \n",
       "6087                                     0                              0   \n",
       "785                                      1                              0   \n",
       "\n",
       "      payment_type_mailed check  \n",
       "5911                          0  \n",
       "2479                          0  \n",
       "5889                          1  \n",
       "6087                          0  \n",
       "785                           0  "
      ]
     },
     "execution_count": 23,
     "metadata": {},
     "output_type": "execute_result"
    }
   ],
   "source": [
    "X_train.head()"
   ]
  },
  {
   "cell_type": "markdown",
   "id": "e7297042-399a-4894-b348-93fe92130520",
   "metadata": {},
   "source": [
    "## Decision Tree Classifier"
   ]
  },
  {
   "cell_type": "code",
   "execution_count": 24,
   "id": "99512577-1a8a-4820-a98a-7057db07eb68",
   "metadata": {},
   "outputs": [
    {
     "name": "stdout",
     "output_type": "stream",
     "text": [
      "Training Accuracy: 0.7742011834319527\n",
      "Validation Accuracy: 0.7643718949609652\n"
     ]
    }
   ],
   "source": [
    "dt = DecisionTreeClassifier()\n",
    "\n",
    "# Define the hyperparameters to search\n",
    "params = {'max_depth': [2, 4, 6, 8, 10],\n",
    "          'min_samples_split': [2, 4, 6, 8, 10],\n",
    "          'min_samples_leaf': [1, 2, 3, 4, 5]}\n",
    "\n",
    "# Create a grid search object\n",
    "grid_search = GridSearchCV(dt, params, cv=5)\n",
    "\n",
    "# Fit the grid search object on the training data\n",
    "grid_search.fit(X_train, y_train)\n",
    "\n",
    "# Get the best hyperparameters\n",
    "best_params = grid_search.best_params_\n",
    "\n",
    "# Create a decision tree model with the best hyperparameters\n",
    "dt = DecisionTreeClassifier(max_depth=best_params['max_depth'],\n",
    "                            min_samples_split=best_params['min_samples_split'],\n",
    "                            min_samples_leaf=best_params['min_samples_leaf'])\n",
    "\n",
    "# Fit the model on the training data\n",
    "dt.fit(X_train, y_train)\n",
    "\n",
    "# Predict the target variable for the training and validation data\n",
    "y_train_pred = dt.predict(X_train)\n",
    "y_validate_pred = dt.predict(X_validate)\n",
    "\n",
    "# Calculate the accuracy of the model on the training and validation data\n",
    "train_accuracy = accuracy_score(y_train, y_train_pred)\n",
    "validate_accuracy = accuracy_score(y_validate, y_validate_pred)\n",
    "\n",
    "# Print the accuracy of the model on the training and validation data\n",
    "print('Training Accuracy:', train_accuracy)\n",
    "print('Validation Accuracy:', validate_accuracy)"
   ]
  },
  {
   "cell_type": "markdown",
   "id": "93101e38-84f9-4fa1-a257-d97e86097315",
   "metadata": {},
   "source": [
    "## Random Forest Classifier"
   ]
  },
  {
   "cell_type": "code",
   "execution_count": 25,
   "id": "0e994dae-15e3-44db-97a3-148353c54729",
   "metadata": {},
   "outputs": [
    {
     "name": "stdout",
     "output_type": "stream",
     "text": [
      "Training Accuracy: 0.7756213017751479\n",
      "Validation Accuracy: 0.7693399574166075\n"
     ]
    }
   ],
   "source": [
    "# Create a random forest model\n",
    "rf = RandomForestClassifier()\n",
    "\n",
    "# Define the hyperparameters to search\n",
    "params = {'n_estimators': [50, 100, 150, 200],\n",
    "          'max_depth': [2, 4, 6, 8, 10],\n",
    "          'min_samples_split': [2, 4, 6, 8, 10],\n",
    "          'min_samples_leaf': [1, 2, 3, 4, 5]}\n",
    "\n",
    "# Create a grid search object\n",
    "grid_search = GridSearchCV(rf, params, cv=5)\n",
    "\n",
    "# Fit the grid search object on the training data\n",
    "grid_search.fit(X_train, y_train)\n",
    "\n",
    "# Get the best hyperparameters\n",
    "best_params = grid_search.best_params_\n",
    "\n",
    "# Create a random forest model with the best hyperparameters\n",
    "rf = RandomForestClassifier(n_estimators=best_params['n_estimators'],\n",
    "                            max_depth=best_params['max_depth'],\n",
    "                            min_samples_split=best_params['min_samples_split'],\n",
    "                            min_samples_leaf=best_params['min_samples_leaf'])\n",
    "\n",
    "# Fit the model on the training data\n",
    "rf.fit(X_train, y_train)\n",
    "\n",
    "# Predict the target variable for the training and validation data\n",
    "y_train_pred = rf.predict(X_train)\n",
    "y_validate_pred = rf.predict(X_validate)\n",
    "\n",
    "# Calculate the accuracy of the model on the training and validation data\n",
    "train_accuracy = accuracy_score(y_train, y_train_pred)\n",
    "validate_accuracy = accuracy_score(y_validate, y_validate_pred)\n",
    "\n",
    "# Print the accuracy of the model on the training and validation data\n",
    "print('Training Accuracy:', train_accuracy)\n",
    "print('Validation Accuracy:', validate_accuracy)"
   ]
  },
  {
   "cell_type": "markdown",
   "id": "30733970-5483-4274-84d6-bb454a838eb9",
   "metadata": {},
   "source": [
    "## Logistics Regression"
   ]
  },
  {
   "cell_type": "code",
   "execution_count": 27,
   "id": "a013b06a-73aa-4358-bf2a-6e980e203222",
   "metadata": {},
   "outputs": [
    {
     "name": "stdout",
     "output_type": "stream",
     "text": [
      "Training Accuracy: 0.7746745562130177\n",
      "Validation Accuracy: 0.7707594038325053\n"
     ]
    }
   ],
   "source": [
    "# Create a logistic regression model\n",
    "lr = LogisticRegression()\n",
    "\n",
    "# Define the hyperparameters to search\n",
    "params = {'C': [0.1, 1, 10, 100],\n",
    "          'penalty': ['l1', 'l2']}\n",
    "\n",
    "# Create a grid search object\n",
    "grid_search = GridSearchCV(lr, params, cv=5)\n",
    "\n",
    "# Fit the grid search object on the training data\n",
    "grid_search.fit(X_train, y_train)\n",
    "\n",
    "# Get the best hyperparameters\n",
    "best_params = grid_search.best_params_\n",
    "\n",
    "# Create a logistic regression model with the best hyperparameters\n",
    "lr = LogisticRegression(C=best_params['C'],\n",
    "                        penalty=best_params['penalty'])\n",
    "\n",
    "# Fit the model on the training data\n",
    "lr.fit(X_train, y_train)\n",
    "\n",
    "# Predict the target variable for the training and validation data\n",
    "y_train_pred = lr.predict(X_train)\n",
    "y_validate_pred = lr.predict(X_validate)\n",
    "\n",
    "# Calculate the accuracy of the model on the training and validation data\n",
    "train_accuracy = accuracy_score(y_train, y_train_pred)\n",
    "validate_accuracy = accuracy_score(y_validate, y_validate_pred)\n",
    "\n",
    "# Print the accuracy of the model on the training and validation data\n",
    "print('Training Accuracy:', train_accuracy)\n",
    "print('Validation Accuracy:', validate_accuracy)# Create a logistic regression model\n"
   ]
  },
  {
   "cell_type": "markdown",
   "id": "0b3f0d7e-50c7-4ad6-9c69-67ef1142bf06",
   "metadata": {},
   "source": [
    "## KNN Model"
   ]
  },
  {
   "cell_type": "code",
   "execution_count": 28,
   "id": "0c4c656b-5d73-40b1-b97a-c64756d93d9c",
   "metadata": {},
   "outputs": [
    {
     "name": "stdout",
     "output_type": "stream",
     "text": [
      "Training Accuracy: 0.8018934911242603\n",
      "Validation Accuracy: 0.7579843860894251\n"
     ]
    }
   ],
   "source": [
    "# Create a KNN model\n",
    "knn = KNeighborsClassifier()\n",
    "\n",
    "# Define the hyperparameters to search\n",
    "params = {'n_neighbors': [3, 5, 7, 9],\n",
    "          'weights': ['uniform', 'distance'],\n",
    "          'p': [1, 2]}\n",
    "\n",
    "# Create a grid search object\n",
    "grid_search = GridSearchCV(knn, params, cv=5)\n",
    "\n",
    "# Fit the grid search object on the training data\n",
    "grid_search.fit(X_train, y_train)\n",
    "\n",
    "# Get the best hyperparameters\n",
    "best_params = grid_search.best_params_\n",
    "\n",
    "# Create a KNN model with the best hyperparameters\n",
    "knn = KNeighborsClassifier(n_neighbors=best_params['n_neighbors'],\n",
    "                           weights=best_params['weights'],\n",
    "                           p=best_params['p'])\n",
    "\n",
    "# Fit the model on the training data\n",
    "knn.fit(X_train, y_train)\n",
    "\n",
    "# Predict the target variable for the training and validation data\n",
    "y_train_pred = knn.predict(X_train)\n",
    "y_validate_pred = knn.predict(X_validate)\n",
    "\n",
    "# Calculate the accuracy of the model on the training and validation data\n",
    "train_accuracy = accuracy_score(y_train, y_train_pred)\n",
    "validate_accuracy = accuracy_score(y_validate, y_validate_pred)\n",
    "\n",
    "# Print the accuracy of the model on the training and validation data\n",
    "print('Training Accuracy:', train_accuracy)\n",
    "print('Validation Accuracy:', validate_accuracy)"
   ]
  },
  {
   "cell_type": "markdown",
   "id": "45d290f4-30b3-4d8f-87ca-98699be321ed",
   "metadata": {},
   "source": [
    "## Comparing Models\n",
    "* The Decision Tree Model yielded a train accuracy of 77.4 and a validate accuracy of 76.4\n",
    "* The Random Forest Model yielded a train accuracy of 77.6 and a validate accuracy of 76.9\n",
    "* The Logistics Regression Model yielded a train accuracy of 77.5 and a validate accuracy of 77.1\n",
    "* The KNN Model yielded a train accuracy of 80.2 and a validate accuracy of 75.8\n",
    "\n",
    "## Model Selection\n",
    "* The Logistics Regression Model maintained over a 77% accuracy with only a 0.4 differential in both train and validate. Although, a small difference I feel the Logistics Regression Model is the highest accuracy average with a good consistency. We will move forward with a Logistic Regression Model using the final test data set."
   ]
  },
  {
   "cell_type": "code",
   "execution_count": 29,
   "id": "e0017304-5c3f-47bc-8b86-0ec5c91b23a9",
   "metadata": {},
   "outputs": [],
   "source": [
    "# Logistic Regresstion (Best Model) Test"
   ]
  },
  {
   "cell_type": "code",
   "execution_count": 30,
   "id": "cca16ac5-33cd-4938-b512-4ebf4c1c3397",
   "metadata": {},
   "outputs": [
    {
     "name": "stdout",
     "output_type": "stream",
     "text": [
      "Test Accuracy: 0.7856635911994322\n"
     ]
    }
   ],
   "source": [
    "# Create a logistic regression model\n",
    "lr = LogisticRegression()\n",
    "\n",
    "# Define the hyperparameters to search\n",
    "params = {'C': [0.1, 1, 10, 100],\n",
    "          'penalty': ['l1', 'l2']}\n",
    "\n",
    "# Create a grid search object\n",
    "grid_search = GridSearchCV(lr, params, cv=5)\n",
    "\n",
    "# Fit the grid search object on the training data\n",
    "grid_search.fit(X_train, y_train)\n",
    "\n",
    "# Get the best hyperparameters\n",
    "best_params = grid_search.best_params_\n",
    "\n",
    "# Create a logistic regression model with the best hyperparameters\n",
    "lr = LogisticRegression(C=best_params['C'],\n",
    "                        penalty=best_params['penalty'])\n",
    "\n",
    "# Fit the model on the training data\n",
    "lr.fit(X_train, y_train)\n",
    "\n",
    "# Predict the target variable for the test data\n",
    "y_test_pred = lr.predict(X_test)\n",
    "\n",
    "# Calculate the accuracy of the model on the test data\n",
    "test_accuracy = accuracy_score(y_test, y_test_pred)\n",
    "\n",
    "# Print the accuracy of the model on the test data\n",
    "print('Test Accuracy:', test_accuracy)"
   ]
  },
  {
   "cell_type": "markdown",
   "id": "a9a09196-2478-4519-8b57-b138a0c7b9f0",
   "metadata": {},
   "source": [
    "## Modeling Summary\n",
    "* The Logistics Regression Model maintained over a 77% accuracy with only a 0.4 differential in both train and validate. Although, a small difference I feel the Logistics Regression Model is the highest accuracy average with a good consistency. \n",
    "* In the end the Regression Model actually improved over the 77% in train and validate to a 78.6% accuracy in the test data. Based on the previous results, I feel 78.6% when compared to the 73.4% baseline is a small gain toward a viable prediction model."
   ]
  },
  {
   "cell_type": "markdown",
   "id": "68cc3e59-7e6c-4ac8-b3ea-ccceac26771b",
   "metadata": {},
   "source": [
    "## Conclusions\n",
    "## Exploration\n",
    "* The statistical modeling showed strong relationships between the target churn and the features payment_type, internet_service_type, contract_type, tech_support, and monthly_charges.\n",
    "* Electronic check payment type is 3 to 4 times higher than any other payment type that churns\n",
    "* Fiber optic internet_service_type is about 3 times higher likely to churn than DSL and 2 times higher than DSL/none combined that churns\n",
    "* Month-to-Month contract_type is more than 8 times higher likely to churn than both annual contract types combined\n",
    "* Customers not having tech_support is approximately 4 times more likely to churn than customers who have tech_support\n",
    "* Customers that churn have about a $15 higher mean than those who have not churned\n",
    "* All features were worthy of modeling.\n",
    "## Modeling\n",
    "* The final Logistic Regression Model on the test data set made a small improvement over the baseline of just over 5%\n",
    "* It is possible that adding or dropping more features could add to the small improvement\n",
    "## Recommendations\n",
    "* Consider offering rebates for using automatic banking\n",
    "* Consider a root cause of such a high churn for the flagship internet_service using fiber optic i.e. cost or maintenance downtime\n",
    "* Consider better marketing the benefits of annual subscriptions\n",
    "* Consider offering initial free trial service of tech support\n",
    "* Consider rebates for higher tenure customers on monthly_charges\n",
    "## Next Steps\n",
    "* Cross-reference the profile services higher tenure customers prefer with the overall churn customers"
   ]
  },
  {
   "cell_type": "code",
   "execution_count": null,
   "id": "d10db959-e0ec-47a8-a6ae-0c3daa05ca3d",
   "metadata": {},
   "outputs": [],
   "source": []
  }
 ],
 "metadata": {
  "kernelspec": {
   "display_name": "Python 3 (ipykernel)",
   "language": "python",
   "name": "python3"
  },
  "language_info": {
   "codemirror_mode": {
    "name": "ipython",
    "version": 3
   },
   "file_extension": ".py",
   "mimetype": "text/x-python",
   "name": "python",
   "nbconvert_exporter": "python",
   "pygments_lexer": "ipython3",
   "version": "3.9.13"
  }
 },
 "nbformat": 4,
 "nbformat_minor": 5
}
